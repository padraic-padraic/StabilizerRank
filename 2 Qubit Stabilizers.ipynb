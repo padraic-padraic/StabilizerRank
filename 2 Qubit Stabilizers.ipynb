{
 "cells": [
  {
   "cell_type": "code",
   "execution_count": 1,
   "metadata": {
    "collapsed": false
   },
   "outputs": [],
   "source": [
    "import qutip as qt\n",
    "import numpy as np\n",
    "from math import cos, sin, acos, pow, sqrt\n",
    "from cmath import exp\n",
    "from itertools import *\n",
    "pi = acos(0)*2"
   ]
  },
  {
   "cell_type": "code",
   "execution_count": 2,
   "metadata": {
    "collapsed": false
   },
   "outputs": [],
   "source": [
    "H = (cos(pi/8)*qt.basis(2,0) + sin(pi/8)*qt.basis(2,1)).unit()\n",
    "plus = (qt.basis(2,0)+qt.basis(2,1)).unit()\n",
    "X = qt.sigmax()\n",
    "Y = qt.sigmay()\n",
    "Z = qt.sigmaz()\n",
    "I = qt.qeye(2)\n",
    "S = Z.sqrtm()\n",
    "T = S.sqrtm()\n",
    "magic_states = [H, S*H, Z*H, S.dag()*H, X*H, S*X*H, Z*X*H, S.dag()*X*H, T*plus, S*T*plus, S.dag()*T.dag()*plus,T.dag()*plus]\n",
    "magic_dms = [qt.ket2dm(s) for s in magic_states]\n",
    "beta = acos(1/sqrt(3))/2\n",
    "F = (cos(beta)*qt.basis(2,0)+exp(1j*pi/4)*sin(beta)*qt.basis(2,1)).unit()\n",
    "face_states = [F, S*F, Z*F, S.dag()*F, X*F, S*X*F, S*Z*F, S.dag()*X*F]\n",
    "face_dms = [qt.ket2dm(s) for s in face_states]"
   ]
  },
  {
   "cell_type": "markdown",
   "metadata": {},
   "source": [
    "Using a result from [Aaronson & Gottesman](https://arxiv.org/abs/quant-ph/0406196) we can calculate the number of n-qubit pure stabiliser states"
   ]
  },
  {
   "cell_type": "code",
   "execution_count": 3,
   "metadata": {
    "collapsed": false
   },
   "outputs": [
    {
     "name": "stdout",
     "output_type": "stream",
     "text": [
      "360.0\n",
      "6.0\n",
      "60.0\n"
     ]
    }
   ],
   "source": [
    "def n_stab(n):\n",
    "    res = pow(2.,n)\n",
    "    for i in range(n):\n",
    "        res *= (pow(2.,n-i)+1)\n",
    "    return res\n",
    "def A(n):\n",
    "    res = 1\n",
    "    for i in range(n):\n",
    "        res *= (pow(2.,n)-pow(2.,i))\n",
    "    return res\n",
    "def G(n):\n",
    "    res = pow(2.,n)\n",
    "    for i in range(n):\n",
    "        res *= (pow(4.,n)/pow(2.,i) - pow(2.,i))\n",
    "    return res\n",
    "    \n",
    "print(G(2))\n",
    "print(A(2))\n",
    "print(n_stab(2))"
   ]
  },
  {
   "cell_type": "code",
   "execution_count": 4,
   "metadata": {
    "collapsed": false
   },
   "outputs": [
    {
     "data": {
      "text/plain": [
       "True"
      ]
     },
     "execution_count": 4,
     "metadata": {},
     "output_type": "execute_result"
    }
   ],
   "source": [
    "qt.Qobj(np.zeros((2,2)))\n",
    "XX = qt.tensor(X, X)\n",
    "ZZ = qt.tensor(Z,Z)\n",
    "qt.commutator(XX,ZZ) == qt.Qobj(np.zeros((4,4)), dims=XX.dims)"
   ]
  },
  {
   "cell_type": "code",
   "execution_count": 6,
   "metadata": {
    "collapsed": false
   },
   "outputs": [],
   "source": [
    "base_elements = [I, X, Y, Z]#, -1*X, -1*Y, -1*Z]\n",
    "strings = ['I', 'X', 'Y', 'Z']#, '-X', '-Y', '-Z']\n",
    "elements = []\n",
    "for pair in product(base_elements,base_elements):\n",
    "    elements.append(pair)\n",
    "elements = elements[1:] #Delete the II element\n",
    "results = [qt.tensor(pair[0],pair[1]) for pair in elements]\n",
    "res_strings = [pair[0]+pair[1] for pair in product(strings,strings)]\n",
    "res_strings = res_strings[1:]\n",
    "for n in range(15):\n",
    "    results.append(-1*results[n])\n",
    "    res_strings.append('-'+res_strings[n])\n"
   ]
  },
  {
   "cell_type": "code",
   "execution_count": 20,
   "metadata": {
    "collapsed": false
   },
   "outputs": [],
   "source": [
    "def test_equality(g1,g2):\n",
    "    print(type(g1), type(g2))\n",
    "    return all([_g1 in g2 for _g1 in g1])\n",
    "        \n",
    "_null = qt.Qobj(np.zeros([2,2]))\n",
    "null = qt.tensor(_null,_null)"
   ]
  },
  {
   "cell_type": "code",
   "execution_count": 50,
   "metadata": {
    "collapsed": false
   },
   "outputs": [
    {
     "data": {
      "text/plain": [
       "60"
      ]
     },
     "execution_count": 50,
     "metadata": {},
     "output_type": "execute_result"
    }
   ],
   "source": [
    "pairs = [] ##Build commuting pairs, as each group has 2 generators\n",
    "for n, el in enumerate(results):\n",
    "    for i in range(len(results)):\n",
    "        if i == n:\n",
    "            continue\n",
    "        if -1*el==results[i]:\n",
    "            continue\n",
    "        if qt.commutator(el, results[i])== null:\n",
    "            pairs.append((el, results[i]))\n",
    "groups = []\n",
    "for pair in pairs:\n",
    "    candidate_group = [qt.tensor(I,I), pair[0], pair[1], pair[0]*pair[1]]\n",
    "    if groups:\n",
    "        if any([test_equality(candidate_group, group) for group in groups]):\n",
    "               continue\n",
    "        else:\n",
    "               groups.append(candidate_group)\n",
    "    else:\n",
    "        groups.append(candidate_group)\n",
    "len(groups)\n"
   ]
  },
  {
   "cell_type": "code",
   "execution_count": 8,
   "metadata": {
    "collapsed": false,
    "scrolled": true
   },
   "outputs": [],
   "source": [
    "def find_string(element):\n",
    "    for n, mat in enumerate(results):\n",
    "        if mat == element:\n",
    "            return res_strings[n]\n",
    "group_strings = []\n",
    "for group in groups:\n",
    "    group_strings.append([find_string(group[1]), find_string(group[2])])"
   ]
  },
  {
   "cell_type": "code",
   "execution_count": 36,
   "metadata": {
    "collapsed": false
   },
   "outputs": [],
   "source": [
    "def projector(group):\n",
    "    I = group[0]\n",
    "    res = ((I+group[1])/2) * ((I+group[2])/2)\n",
    "    return res"
   ]
  },
  {
   "cell_type": "code",
   "execution_count": 53,
   "metadata": {
    "collapsed": false
   },
   "outputs": [
    {
     "data": {
      "text/plain": [
       "60"
      ]
     },
     "execution_count": 53,
     "metadata": {},
     "output_type": "execute_result"
    }
   ],
   "source": [
    "states = []\n",
    "for group in groups:\n",
    "    eigs, vecs = projector(group).eigenstates(sort='high')\n",
    "    for i in range(eigs.size):\n",
    "        if np.allclose(eigs[i], complex(1)):\n",
    "            states.append(vecs[i])\n",
    "            break\n",
    "len(states)\n"
   ]
  },
  {
   "cell_type": "code",
   "execution_count": 80,
   "metadata": {
    "collapsed": false
   },
   "outputs": [
    {
     "data": {
      "text/plain": [
       "6"
      ]
     },
     "execution_count": 80,
     "metadata": {},
     "output_type": "execute_result"
    }
   ],
   "source": [
    "np.count_nonzero(SL0(A, b, 1e-12))"
   ]
  },
  {
   "cell_type": "code",
   "execution_count": 56,
   "metadata": {
    "collapsed": false
   },
   "outputs": [
    {
     "name": "stdout",
     "output_type": "stream",
     "text": [
      "718\n",
      "89\n",
      "4\n"
     ]
    }
   ],
   "source": [
    "pairs = [pair for pair in combinations(states, 2)]\n",
    "len(pairs)\n",
    "_dims = [[2,2],[1,1]]\n",
    "# self_products = set()\n",
    "product_count = 0\n",
    "self_product_count = 0\n",
    "magic_count = 0\n",
    "for pair in pairs:\n",
    "    s1 = pair[0].unit()\n",
    "    s2 = pair[1].unit()\n",
    "    if qt.ket2dm(s1+s2) == null:\n",
    "        continue\n",
    "    dm = qt.ket2dm(1/sqrt(2)*(s1+s2))\n",
    "    q1, q2 = dm.ptrace(0), dm.ptrace(1)\n",
    "    if np.allclose(q1.tr(),1.):\n",
    "        product_count +=1\n",
    "        if q1 == q2:\n",
    "            self_product_count += 1\n",
    "#         self_products.add(tuple([q1.full().flatten()[i] for i in range(4)]))\n",
    "            if q1 in magic_dms:\n",
    "                magic_count += 1\n",
    "\n",
    "print(product_count)\n",
    "print(self_product_count)\n",
    "print(magic_count)"
   ]
  },
  {
   "cell_type": "code",
   "execution_count": null,
   "metadata": {
    "collapsed": false
   },
   "outputs": [],
   "source": [
    "for el in self_products:\n",
    "    dm = qt.Qobj([[el[0], el[1]],[el[2], el[3]]], dims=[[2],[2]])"
   ]
  },
  {
   "cell_type": "code",
   "execution_count": null,
   "metadata": {
    "collapsed": true
   },
   "outputs": [],
   "source": []
  }
 ],
 "metadata": {
  "kernelspec": {
   "display_name": "Python 3",
   "language": "python",
   "name": "python3"
  },
  "language_info": {
   "codemirror_mode": {
    "name": "ipython",
    "version": 3
   },
   "file_extension": ".py",
   "mimetype": "text/x-python",
   "name": "python",
   "nbconvert_exporter": "python",
   "pygments_lexer": "ipython3",
   "version": "3.5.2"
  }
 },
 "nbformat": 4,
 "nbformat_minor": 0
}
