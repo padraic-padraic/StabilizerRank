{
 "cells": [
  {
   "cell_type": "code",
   "execution_count": 1,
   "metadata": {
    "collapsed": true
   },
   "outputs": [],
   "source": [
    "import qutip as qt\n",
    "import numpy as np\n",
    "from math import cos, sin, acos, pow\n",
    "pi = acos(0)*2"
   ]
  },
  {
   "cell_type": "code",
   "execution_count": 2,
   "metadata": {
    "collapsed": false
   },
   "outputs": [],
   "source": [
    "H = (cos(pi/8)*qt.basis(2,0) + sin(pi/8)*qt.basis(2,1)).unit()"
   ]
  },
  {
   "cell_type": "code",
   "execution_count": 3,
   "metadata": {
    "collapsed": false
   },
   "outputs": [
    {
     "data": {
      "text/latex": [
       "Quantum object: dims = [[2], [1]], shape = [2, 1], type = ket\\begin{equation*}\\left(\\begin{array}{*{11}c}0.924\\\\0.383\\\\\\end{array}\\right)\\end{equation*}"
      ],
      "text/plain": [
       "Quantum object: dims = [[2], [1]], shape = [2, 1], type = ket\n",
       "Qobj data =\n",
       "[[ 0.92387953]\n",
       " [ 0.38268343]]"
      ]
     },
     "execution_count": 3,
     "metadata": {},
     "output_type": "execute_result"
    }
   ],
   "source": [
    "H"
   ]
  },
  {
   "cell_type": "markdown",
   "metadata": {},
   "source": [
    "Using a result from [Aaronson & Gottesman](https://arxiv.org/abs/quant-ph/0406196) we can calculate the number of n-qubit pure stabiliser states"
   ]
  },
  {
   "cell_type": "code",
   "execution_count": 4,
   "metadata": {
    "collapsed": false
   },
   "outputs": [
    {
     "data": {
      "text/plain": [
       "60.0"
      ]
     },
     "execution_count": 4,
     "metadata": {},
     "output_type": "execute_result"
    }
   ],
   "source": [
    "def n_stab(n):\n",
    "    res = pow(2.,n)\n",
    "    for i in range(n):\n",
    "        res *= (pow(2.,n-i)+1)\n",
    "    return res\n",
    "n_stab(2)"
   ]
  },
  {
   "cell_type": "code",
   "execution_count": 61,
   "metadata": {
    "collapsed": false
   },
   "outputs": [
    {
     "data": {
      "text/plain": [
       "31"
      ]
     },
     "execution_count": 61,
     "metadata": {},
     "output_type": "execute_result"
    }
   ],
   "source": [
    "X = qt.sigmax()\n",
    "Y = qt.sigmay()\n",
    "Z = qt.sigmaz()\n",
    "I = qt.qeye(2)\n",
    "base_elements = [I, X, Y, Z, -1*X, -1*Y, -1*Z]\n",
    "combos = []\n",
    "for i in range(len(base_elements)):\n",
    "    for j in range(len(base_elements)):\n",
    "        res = qt.tensor(base_elements[i], base_elements[j])\n",
    "        if any([el == res for el in combos]):\n",
    "            continue\n",
    "        else:\n",
    "            combos.append(res)\n",
    "len(combos)"
   ]
  },
  {
   "cell_type": "code",
   "execution_count": 62,
   "metadata": {
    "collapsed": false
   },
   "outputs": [],
   "source": [
    "from qutip.operators import commutator\n",
    "\n",
    "def test_equality(g1,g2):\n",
    "    if g1[0] in g2 and g1[1] in g2 and g1[2] in g2:\n",
    "        return True\n",
    "    else:\n",
    "        return False\n",
    "combos = combos[1:]"
   ]
  },
  {
   "cell_type": "code",
   "execution_count": 63,
   "metadata": {
    "collapsed": false
   },
   "outputs": [],
   "source": [
    "null = qt.Qobj([[0,0,0,0],[0,0,0,0],[0,0,0,0],[0,0,0,0]], dims=[[2,2],[2,2]])"
   ]
  },
  {
   "cell_type": "code",
   "execution_count": 64,
   "metadata": {
    "collapsed": false
   },
   "outputs": [],
   "source": [
    "n_found = 0\n",
    "groups = []\n",
    "while n_found < 60:\n",
    "    p = combos.pop(0)\n",
    "    for p2 in combos:\n",
    "        if commutator(p,p2) == null:\n",
    "            candidate_group = [p, p2, p*p2]\n",
    "            if len(groups) == 0:\n",
    "                if any([test_equality(candidate_group, group) for group in groups]):\n",
    "                    continue\n",
    "                else:\n",
    "                    groups.append(candidate_group)\n",
    "                    n_found += 1\n",
    "            else:\n",
    "                groups.append(candidate_group)\n",
    "                n_found += 1"
   ]
  },
  {
   "cell_type": "code",
   "execution_count": 74,
   "metadata": {
    "collapsed": false
   },
   "outputs": [],
   "source": [
    "eqs = [test_equality(groups[0],groups[i]) for i in range(len(groups))]"
   ]
  },
  {
   "cell_type": "code",
   "execution_count": 76,
   "metadata": {
    "collapsed": false
   },
   "outputs": [],
   "source": [
    "def test_mutual_c(group):\n",
    "    for i in range(len(group)):\n",
    "        if not all([commutator(group[i], group[j]) for j in range(len(group))]):\n",
    "            print(\"Something went wrong\")"
   ]
  },
  {
   "cell_type": "code",
   "execution_count": null,
   "metadata": {
    "collapsed": true
   },
   "outputs": [],
   "source": []
  }
 ],
 "metadata": {
  "kernelspec": {
   "display_name": "Python 3",
   "language": "python",
   "name": "python3"
  },
  "language_info": {
   "codemirror_mode": {
    "name": "ipython",
    "version": 3
   },
   "file_extension": ".py",
   "mimetype": "text/x-python",
   "name": "python",
   "nbconvert_exporter": "python",
   "pygments_lexer": "ipython3",
   "version": "3.5.2"
  }
 },
 "nbformat": 4,
 "nbformat_minor": 0
}
