{
 "cells": [
  {
   "cell_type": "code",
   "execution_count": 2,
   "metadata": {
    "collapsed": true
   },
   "outputs": [],
   "source": [
    "%matplotlib inline\n",
    "from matplotlib import pyplot as plt\n",
    "\n",
    "from math import atan, acos, cos, sin, sqrt\n",
    "import qutip as qt\n",
    "from cmath import exp\n",
    "from scipy.special import binom\n",
    "from math import pow\n",
    "rtwo = sqrt(2)\n",
    "rtwo_m1 = 1/rtwo\n",
    "beta = acos(1/sqrt(3)) / 2"
   ]
  },
  {
   "cell_type": "code",
   "execution_count": 3,
   "metadata": {
    "collapsed": false
   },
   "outputs": [],
   "source": [
    "phi = atan(sin(beta)/2 / rtwo_m1*(cos(beta)+rtwo_m1*sin(beta)))"
   ]
  },
  {
   "cell_type": "code",
   "execution_count": 4,
   "metadata": {
    "collapsed": false
   },
   "outputs": [
    {
     "data": {
      "text/plain": [
       "0.37561545870672297"
      ]
     },
     "execution_count": 4,
     "metadata": {},
     "output_type": "execute_result"
    }
   ],
   "source": [
    "pi = 2*acos(0)\n",
    "phi"
   ]
  },
  {
   "cell_type": "code",
   "execution_count": 5,
   "metadata": {
    "collapsed": false
   },
   "outputs": [
    {
     "data": {
      "text/plain": [
       "0.7856211965640852"
      ]
     },
     "execution_count": 5,
     "metadata": {},
     "output_type": "execute_result"
    }
   ],
   "source": [
    "cos(2*phi)/cos(phi)"
   ]
  },
  {
   "cell_type": "code",
   "execution_count": 6,
   "metadata": {
    "collapsed": false
   },
   "outputs": [
    {
     "data": {
      "text/plain": [
       "1.5707963267948966"
      ]
     },
     "execution_count": 6,
     "metadata": {},
     "output_type": "execute_result"
    }
   ],
   "source": [
    "pi/2"
   ]
  },
  {
   "cell_type": "code",
   "execution_count": 7,
   "metadata": {
    "collapsed": false
   },
   "outputs": [
    {
     "data": {
      "text/latex": [
       "Quantum object: dims = [[2], [1]], shape = [2, 1], type = ket\\begin{equation*}\\left(\\begin{array}{*{11}c}0.888\\\\(0.325+0.325j)\\\\\\end{array}\\right)\\end{equation*}"
      ],
      "text/plain": [
       "Quantum object: dims = [[2], [1]], shape = [2, 1], type = ket\n",
       "Qobj data =\n",
       "[[ 0.88807383+0.j        ]\n",
       " [ 0.32505758+0.32505758j]]"
      ]
     },
     "execution_count": 7,
     "metadata": {},
     "output_type": "execute_result"
    }
   ],
   "source": [
    "T = cos(beta)*qt.basis(2,0)+exp(1j*pi/4)*sin(beta)*qt.basis(2,1)\n",
    "T"
   ]
  },
  {
   "cell_type": "code",
   "execution_count": 8,
   "metadata": {
    "collapsed": false
   },
   "outputs": [],
   "source": [
    "zer = qt.basis(2,0)\n",
    "plus = (qt.basis(2,0)+qt.basis(2,1)).unit()\n",
    "plus_i = (qt.basis(2,0)+1j*qt.basis(2,1)).unit()"
   ]
  },
  {
   "cell_type": "code",
   "execution_count": 9,
   "metadata": {
    "collapsed": false
   },
   "outputs": [
    {
     "name": "stdout",
     "output_type": "stream",
     "text": [
      "(0.888073833977+0j)\n",
      "0.0\n",
      "(0.85781345189+0.22985042169j)\n",
      "0.261799387799\n",
      "(0.85781345189-0.22985042169j)\n",
      "-0.261799387799\n"
     ]
    }
   ],
   "source": [
    "import numpy as np\n",
    "states = [zer,plus,plus_i]\n",
    "for state in states:\n",
    "    print(state.overlap(T))\n",
    "    print(np.angle(state.overlap(T)))"
   ]
  },
  {
   "cell_type": "code",
   "execution_count": 10,
   "metadata": {
    "collapsed": false
   },
   "outputs": [
    {
     "data": {
      "text/plain": [
       "0.9659258262890683"
      ]
     },
     "execution_count": 10,
     "metadata": {},
     "output_type": "execute_result"
    }
   ],
   "source": [
    "phi = np.angle(plus.overlap(T))\n",
    "cos(phi)"
   ]
  },
  {
   "cell_type": "code",
   "execution_count": 11,
   "metadata": {
    "collapsed": false
   },
   "outputs": [
    {
     "data": {
      "text/plain": [
       "(0.78867513459481264+0j)"
      ]
     },
     "execution_count": 11,
     "metadata": {},
     "output_type": "execute_result"
    }
   ],
   "source": [
    "Z = 1 + sqrt(0.5)*cos(phi) + sqrt(0.5)*cos(phi)\n",
    "candidate = 1/sqrt(3*Z)*(qt.tensor(zer,zer)+exp(-1j*phi)*qt.tensor(zer,plus_i)+exp(1j*phi)*qt.tensor(zer,plus))\n",
    "# +\n",
    "#                                        qt.tensor(plus_i,plus)+exp(-1j*phi)*qt.tensor(plus_i,zer)+exp(1j*phi)*qt.tensor(plus,zer)+\n",
    "#                                        qt.tensor(plus,plus_i)+exp(-2j*phi)*qt.tensor(plus_i,plus_i)+exp(2j*phi)*qt.tensor(plus,plus))\n",
    "candidate.overlap(qt.tensor(T,T))*candidate.overlap(qt.tensor(T,T))"
   ]
  },
  {
   "cell_type": "code",
   "execution_count": 12,
   "metadata": {
    "collapsed": false
   },
   "outputs": [
    {
     "data": {
      "text/plain": [
       "0.7886751345948129"
      ]
     },
     "execution_count": 12,
     "metadata": {},
     "output_type": "execute_result"
    }
   ],
   "source": [
    "3*pow(cos(beta),4)/Z"
   ]
  },
  {
   "cell_type": "code",
   "execution_count": 13,
   "metadata": {
    "collapsed": false
   },
   "outputs": [],
   "source": [
    "def sum_Z(t):\n",
    "    tot = 0\n",
    "    for i in range(1,t+1):\n",
    "        for j in range(t-i+1):\n",
    "            tot += binom(i,j)*cos(j*pi/12)\n",
    "    return tot\n",
    "\n",
    "def expectation(k,t):\n",
    "    return 1 + (pow(3,k)-1)/(pow(3,t)-1)*sum_Z(t)\n",
    "\n",
    "def naive(t):\n",
    "    return pow(3,t)*pow(cos(beta),2*t) -1"
   ]
  },
  {
   "cell_type": "code",
   "execution_count": 15,
   "metadata": {
    "collapsed": false
   },
   "outputs": [],
   "source": [
    "res = [sum_Z(i) for i in range(13)]\n",
    "res2 = [expectation(k,12) for k in range(13)]\n",
    "res3 = [naive(i) for i in range(13)]"
   ]
  },
  {
   "cell_type": "code",
   "execution_count": 16,
   "metadata": {
    "collapsed": false
   },
   "outputs": [
    {
     "data": {
      "text/plain": [
       "[<matplotlib.lines.Line2D at 0x104ae12e8>,\n",
       " <matplotlib.lines.Line2D at 0x104ae14a8>,\n",
       " <matplotlib.lines.Line2D at 0x104ae1e10>]"
      ]
     },
     "execution_count": 16,
     "metadata": {},
     "output_type": "execute_result"
    },
    {
     "data": {
      "image/png": "[encoded data removed]",
      "text/plain": [
       "<matplotlib.figure.Figure at 0x104a14780>"
      ]
     },
     "metadata": {},
     "output_type": "display_data"
    }
   ],
   "source": [
    "plt.plot(np.arange(13), res,'b',np.arange(13),res2,'r',np.arange(13),res3,'g')"
   ]
  },
  {
   "cell_type": "code",
   "execution_count": 53,
   "metadata": {
    "collapsed": false
   },
   "outputs": [
    {
     "name": "stdout",
     "output_type": "stream",
     "text": [
      "0b0\n",
      "0b1\n",
      "0b10\n",
      "0b11\n",
      "0b100\n",
      "0b101\n",
      "0b110\n",
      "0b111\n",
      "0b1000\n",
      "0b1001\n",
      "0b1010\n",
      "0b1011\n",
      "0b1100\n",
      "0b1101\n",
      "0b1110\n",
      "0b1111\n",
      "0b10000\n",
      "0b10001\n",
      "0b10010\n",
      "0b10011\n",
      "0b10100\n",
      "0b10101\n",
      "0b10110\n",
      "0b10111\n",
      "0b11000\n",
      "0b11001\n",
      "0b11010\n",
      "0b11011\n",
      "0b11100\n",
      "0b11101\n",
      "0b11110\n",
      "0b11111\n"
     ]
    },
    {
     "data": {
      "text/plain": [
       "1.0000000000002038"
      ]
     },
     "execution_count": 53,
     "metadata": {},
     "output_type": "execute_result"
    }
   ],
   "source": [
    "states = [T for i in range(16)]\n",
    "state = qt.tensor(states)\n",
    "np.sum(state.dims[0])\n",
    "data = np.zeros((32,2))\n",
    "for i in range(np.sum(state.dims[0])):\n",
    "    print(bin(i))\n",
    "    data[i][0] = bin(i).count(\"1\")\n",
    "    data[i][1] = np.absolute(np.asscalar(state[i]))\n",
    "state.norm()"
   ]
  },
  {
   "cell_type": "code",
   "execution_count": 54,
   "metadata": {
    "collapsed": false
   },
   "outputs": [
    {
     "data": {
      "text/plain": [
       "2"
      ]
     },
     "execution_count": 54,
     "metadata": {},
     "output_type": "execute_result"
    }
   ],
   "source": [
    "tots = np.zeros(int(np.amax(data[:,0])))\n",
    "for i in range(tots.size):\n",
    "    for j in range(32):\n",
    "        if float(i) == data[j,0]:\n",
    "            tots[i]+=data[j,1]\n",
    "tots\n",
    "np.sum(tots)\n",
    "np.argmax(tots)"
   ]
  },
  {
   "cell_type": "code",
   "execution_count": 67,
   "metadata": {
    "collapsed": false
   },
   "outputs": [
    {
     "data": {
      "text/plain": [
       "[65536, 1]"
      ]
     },
     "execution_count": 67,
     "metadata": {},
     "output_type": "execute_result"
    }
   ],
   "source": [
    "qt.tensor([T for i in range(16)]).shape"
   ]
  },
  {
   "cell_type": "code",
   "execution_count": 79,
   "metadata": {
    "collapsed": true
   },
   "outputs": [],
   "source": [
    "def find_max_weight(t):\n",
    "    print(t)\n",
    "    state = qt.tensor([T for i in range(t)])\n",
    "    _len = state.shape[0]\n",
    "    data = np.zeros((_len,2))\n",
    "    for i in range(_len):\n",
    "        data[i][0] = bin(i).count(\"1\")\n",
    "        val = np.asscalar(state[i])\n",
    "        data[i][1] = np.absolute(val)\n",
    "    tots = np.zeros(int(np.amax(data[:,0])))\n",
    "    for i in range(tots.size):\n",
    "        for j in range(_len):\n",
    "            if float(i) == data[j,0]:\n",
    "                tots[i]+=data[j,1]\n",
    "    return np.argmax(tots)"
   ]
  },
  {
   "cell_type": "code",
   "execution_count": 85,
   "metadata": {
    "collapsed": false
   },
   "outputs": [
    {
     "name": "stdout",
     "output_type": "stream",
     "text": [
      "1\n",
      "2\n",
      "3\n",
      "4\n",
      "5\n",
      "6\n",
      "7\n",
      "8\n",
      "9\n",
      "10\n",
      "11\n",
      "12\n",
      "13\n",
      "14\n",
      "15\n"
     ]
    }
   ],
   "source": [
    "res = [find_max_weight(i) for i in range(1,16)]\n",
    "res2 = [(1-cos(beta)*cos(beta))*t + sqrt(t) for t in range(1,16)]\n",
    "res3 = [(1-cos(beta)*cos(beta))*t - sqrt(t) for t in range(1,16)]"
   ]
  },
  {
   "cell_type": "code",
   "execution_count": 86,
   "metadata": {
    "collapsed": false
   },
   "outputs": [
    {
     "data": {
      "text/plain": [
       "[<matplotlib.lines.Line2D at 0x105262080>,\n",
       " <matplotlib.lines.Line2D at 0x105262240>,\n",
       " <matplotlib.lines.Line2D at 0x105262ba8>]"
      ]
     },
     "execution_count": 86,
     "metadata": {},
     "output_type": "execute_result"
    },
    {
     "data": {
      "image/png": "[encoded data removed]",
      "text/plain": [
       "<matplotlib.figure.Figure at 0x104fce7b8>"
      ]
     },
     "metadata": {},
     "output_type": "display_data"
    }
   ],
   "source": [
    "plt.plot(np.arange(1,16), res, 'b', np.arange(1,16), res2, 'r', np.arange(1,16), res3, 'g')"
   ]
  },
  {
   "cell_type": "code",
   "execution_count": 90,
   "metadata": {
    "collapsed": false
   },
   "outputs": [
    {
     "data": {
      "text/plain": [
       "0.7440075512490014"
      ]
     },
     "execution_count": 90,
     "metadata": {},
     "output_type": "execute_result"
    }
   ],
   "source": [
    "from math import log2\n",
    "cb2 = cos(beta)*cos(beta)\n",
    "-1*(cb2*log2(cb2) + (1-cb2)*log2(1-cb2))"
   ]
  },
  {
   "cell_type": "code",
   "execution_count": null,
   "metadata": {
    "collapsed": true
   },
   "outputs": [],
   "source": []
  }
 ],
 "metadata": {
  "kernelspec": {
   "display_name": "Python 3",
   "language": "python",
   "name": "python3"
  },
  "language_info": {
   "codemirror_mode": {
    "name": "ipython",
    "version": 3
   },
   "file_extension": ".py",
   "mimetype": "text/x-python",
   "name": "python",
   "nbconvert_exporter": "python",
   "pygments_lexer": "ipython3",
   "version": "3.5.2"
  }
 },
 "nbformat": 4,
 "nbformat_minor": 0
}
